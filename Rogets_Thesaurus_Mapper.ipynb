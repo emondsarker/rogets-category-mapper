{
  "cells": [
    {
      "cell_type": "markdown",
      "metadata": {
        "id": "04SVeKgOjdgW"
      },
      "source": [
        "# Rogets Thesaurus Mapper"
      ]
    },
    {
      "cell_type": "markdown",
      "metadata": {
        "id": "kAvG6zP8jhGA"
      },
      "source": [
        "## Initialization"
      ]
    },
    {
      "cell_type": "code",
      "execution_count": 1,
      "metadata": {
        "colab": {
          "base_uri": "https://localhost:8080/"
        },
        "id": "b_CzjuTzi1Bx",
        "outputId": "f4d80f18-b2b3-4580-d1f5-a5438389b0a3"
      },
      "outputs": [
        {
          "output_type": "stream",
          "name": "stderr",
          "text": [
            "[nltk_data] Downloading package stopwords to /root/nltk_data...\n",
            "[nltk_data]   Unzipping corpora/stopwords.zip.\n"
          ]
        }
      ],
      "source": [
        "import _pickle as cPickle\n",
        "import os\n",
        "from collections import defaultdict\n",
        "import os.path\n",
        "\n",
        "from nltk.corpus import stopwords\n",
        "from nltk.tokenize import word_tokenize\n",
        "import nltk\n",
        "nltk.download('stopwords')\n",
        "import pandas as pd\n",
        "import string\n",
        "\n",
        "_file_path = '/content/drive/MyDrive/CSE498R/rogets_text/'"
      ]
    },
    {
      "cell_type": "code",
      "execution_count": 16,
      "metadata": {
        "id": "-U6HYAk9jKz5"
      },
      "outputs": [],
      "source": [
        "class PyRoget(object):\n",
        "\n",
        "    def __init__(self):\n",
        "        with open(os.path.join(_file_path, 'thes_dict.txt'), 'rb') as f:\n",
        "            self.word_categories_dict = cPickle.load(f, encoding='utf-8')\n",
        "        with open(os.path.join(_file_path, 'thes_cat.txt'), 'rb') as f:\n",
        "            self.category_word_dict = cPickle.load(f, encoding='utf-8')\n",
        "        with open(os.path.join(_file_path, 'cat_num.txt'), 'rb') as f:\n",
        "            self.category_code_dict = cPickle.load(f, encoding='utf-8')\n",
        "        with open(os.path.join(_file_path, 'node_codes.txt'), 'rb') as f:\n",
        "            self.node_code_category_dict = cPickle.load(f, encoding='utf-8')\n",
        "        with open(os.path.join(_file_path, 'code_nodes.txt'), 'rb') as f:\n",
        "            self.category_node_code_dict = cPickle.load(f, encoding='utf-8')\n",
        "        with open(os.path.join(_file_path, 'full_childparent.txt'), 'rb') as f:\n",
        "            self.node_parent_dict = cPickle.load(f, encoding='utf-8')\n",
        "        # TODO: fix capitalization?\n",
        "        with open(os.path.join(_file_path, 'num_cat.txt'), 'rb') as f:\n",
        "            self.code_category_dict = cPickle.load(f, encoding='utf-8')\n",
        "\n",
        "    def add_custom_words(self, fid='add_words.txt'):\n",
        "        ''' Load a file of words and connections into THES_DICT '''\n",
        "        try:\n",
        "            type(self.added_words) is list\n",
        "        except:\n",
        "            self.added_words = []\n",
        "        with open(fid, 'rb') as f:\n",
        "            for line in f:\n",
        "                wd_pair = line.strip().split(',')\n",
        "                if wd_pair[0] not in self.word_categories_dict:\n",
        "                    self.word_categories_dict[wd_pair[0]] = [wd_pair[1], ]\n",
        "                    self.added_words.append(wd_pair[0])\n",
        "                else:\n",
        "                    if wd_pair[1] not in self.word_categories_dict[wd_pair[0]]:\n",
        "                        self.word_categories_dict[wd_pair[0]].append(\n",
        "                            wd_pair[1])\n",
        "\n",
        "        self.added_words = list(set(self.added_words))\n",
        "        print(\"Words Added to THES_DICT:\")\n",
        "        print(' '.join(self.added_words))\n",
        "\n",
        "    def extract_words(self, text, lower=True):\n",
        "        \"\"\"Removes punctuation from text and returns a list of words\n",
        "\n",
        "        Arguments:\n",
        "            text {str} -- text from which to extract words\n",
        "\n",
        "        Keyword Arguments:\n",
        "            lower {bool} -- case of words extracted (default: {True})\n",
        "\n",
        "        Returns:\n",
        "            list of str -- extracted words\n",
        "        \"\"\"\n",
        "\n",
        "        puncMarks = [',', '.', '?', '!', ':', ';',\n",
        "                     '\\'', '\\\"', '(', ')', '[', ']', '-']\n",
        "        for item in puncMarks:\n",
        "            text = text.replace(item, '')\n",
        "        if lower:\n",
        "            lowerText = text.lower()\n",
        "        textWords = lowerText.split()\n",
        "        return textWords\n",
        "\n",
        "    def categorize_word(self, word, levels=0):\n",
        "        \"\"\"Gets all base categories of a word, returns list of (cateogry, code)\n",
        "\n",
        "        Arguments:\n",
        "            word {str} -- word to categorize\n",
        "\n",
        "        Keyword Arguments:\n",
        "            levels {int} -- how many levels above base category (default: {0})\n",
        "\n",
        "        Returns:\n",
        "            list of tuple of str or None -- list of (category, code) tuples or\n",
        "                None, if not found\n",
        "        \"\"\"\n",
        "\n",
        "        if word in self.word_categories_dict:\n",
        "            cats = [(self.code_category_dict[x], x) for x\n",
        "                    in self.word_categories_dict[word]]\n",
        "        else:\n",
        "            return None\n",
        "        for _ in range(levels):\n",
        "            for i, cat in enumerate(cats):\n",
        "                if cat and cat[1] not in {'A', 'B', 'C', 'D', 'E', 'F'}:\n",
        "                    node = self.node_parent_dict[cat[1]]\n",
        "                    cats[i] = (self.node_code_category_dict[node], node)\n",
        "\n",
        "        return cats\n",
        "\n",
        "    def categorize_words(self, text, levels=0):\n",
        "        \"\"\"Get all categories of a text or list of words\n",
        "\n",
        "        Arguments:\n",
        "            text {str | list of str} -- text to categorize\n",
        "\n",
        "        Keyword Arguments:\n",
        "            levels {int} -- how many levels up to classify (default: {0})\n",
        "\n",
        "        Returns:\n",
        "            list of tuple of str or None -- list of (category, code) tuples or\n",
        "                None, if not found\n",
        "        \"\"\"\n",
        "\n",
        "        if type(text) == str:\n",
        "            wordlist = self.extract_words(text)\n",
        "#             print(wordlist)\n",
        "        else:\n",
        "            wordlist = [x.lower() for x in text if x.isalpha()]\n",
        "#             print(wordlist)\n",
        "        categorized = [self.categorize_word(x, levels=levels) for x\n",
        "                       in wordlist if x in self.word_categories_dict]\n",
        "#         print(categorized)\n",
        "        return [y for x in categorized for y in x if y] or None\n",
        "\n",
        "\n",
        "    def get_category_freqs(self, text_list, levels=0):\n",
        "        '''returns dict of word category frequencies of levels=n for a text,\n",
        "        throwing out words not in the thesaurus'''\n",
        "        frequency_counts = defaultdict(lambda: 0)\n",
        "        bagofwords = self.categorize_words(text_list, levels=levels)\n",
        "#         print(bagofwords)\n",
        "        if bagofwords is None:\n",
        "            return None\n",
        "        good_cats = [x for x in bagofwords if x]\n",
        "        for x in good_cats:\n",
        "            frequency_counts[x] += 1\n",
        "        return frequency_counts\n",
        "\n",
        "    def get_all_category_freqs(self, text_list):\n",
        "        freqlist = self.get_category_freqs(text_list)\n",
        "        fulldict = {x: 0 for x in self.code_category_dict.keys()}\n",
        "        for key in freqlist.keys():\n",
        "            if key[1] in fulldict:\n",
        "                fulldict[key[1]] = freqlist[key]\n",
        "        newdict = {(self.code_category_dict[x], x):\n",
        "                   fulldict[x] for x in fulldict.keys()}\n",
        "        return sorted(newdict.items(), key=lambda x: x[0][1])\n",
        "\n",
        "    def get_category_hierarchies(self, word):\n",
        "        '''returns full hierarchical paths for word\n",
        "        from base categories to parent node \"WORDS\" (code '0');\n",
        "        also returns distance of each node from word/base category;\n",
        "        return format tuple: (distance,node)'''\n",
        "        all_cats = [x for x in self.word_categories_dict[word]]\n",
        "        syn_paths = []\n",
        "        for cat in all_cats:\n",
        "            path = []\n",
        "            counter = 0\n",
        "            path.append((counter, self.code_category_dict[cat]))\n",
        "            node = cat\n",
        "            while True:\n",
        "                counter += 1\n",
        "                parent = self.node_parent_dict[node]\n",
        "                path.append((counter, self.node_code_category_dict[parent]))\n",
        "                node = parent\n",
        "                if parent not in self.node_parent_dict.keys():\n",
        "                    break\n",
        "            syn_paths.append(path)\n",
        "        return syn_paths\n",
        "\n",
        "    def get_words(self, category):\n",
        "        '''Returns all words in given base category (accepts code or category name)'''\n",
        "        if category in self.code_category_dict:\n",
        "            return (self.code_category_dict[category],\n",
        "                    self.category_word_dict[category])\n",
        "        elif category.lower() in self.category_code_dict:\n",
        "            code = self.category_code_dict[category.lower()]\n",
        "            return(category.upper(), self.category_word_dict[code])\n",
        "        return []\n",
        "\n",
        "    def get_all_related_words(self, word):\n",
        "        '''given word, return all other words in word's categories'''\n",
        "        cats = [x for x in self.word_categories_dict[word]]\n",
        "        return tuple((self.code_category_dict[cat],\n",
        "                      self.category_word_dict[cat]) for cat in cats)\n",
        "\n",
        "    def distance_to_node(self, word1, node):\n",
        "        '''given word and node, return distance (in nodes) from base category to node;\n",
        "        if node not in path to \"WORDS\" node, distance equals sum of word's and node's\n",
        "        path to \"WORDS\"'''\n",
        "        if node in self.node_code_category_dict:\n",
        "            node = self.node_code_category_dict[node]\n",
        "        wordcats = [x[0] for x in self.categorize_word(word1)]\n",
        "        word1 = word1.lower()\n",
        "        distances = []\n",
        "        paths = self.get_category_hierarchies(word1)\n",
        "        for path in paths:\n",
        "            for tup in path:\n",
        "                if node in tup:\n",
        "                    distances.append(tup[0])\n",
        "        if distances == []:\n",
        "            for cat in wordcats:\n",
        "                pathlength1 = self.get_category_distance(cat, 'WORDS')\n",
        "                pathlength2 = self.get_category_distance(node, 'WORDS')\n",
        "                distances.append(pathlength1 + pathlength2)\n",
        "        dist = min(distances)\n",
        "        return dist\n",
        "\n",
        "    def get_shared_nodes(self, word1, word2):\n",
        "        '''given two words, returns tuples containing all shared nodes\n",
        "        and minimum distance between the two words via that node;\n",
        "        output format tuple: (distance,node)'''\n",
        "        word1 = word1.lower()\n",
        "        word2 = word2.lower()\n",
        "        paths1 = self.get_category_hierarchies(word1)\n",
        "        paths2 = self.get_category_hierarchies(word2)\n",
        "        nodes1 = []\n",
        "        nodes2 = []\n",
        "        path_lengths = []\n",
        "        for path in paths1:\n",
        "            for node in path:\n",
        "                nodes1.append(node[1])\n",
        "        for path in paths2:\n",
        "            for node in path:\n",
        "                nodes2.append(node[1])\n",
        "        common_nodes = list(set(nodes1).intersection(set(nodes2)))\n",
        "        for node in common_nodes:\n",
        "            distances1 = []\n",
        "            distances2 = []\n",
        "            for path in paths1:\n",
        "                for n in path:\n",
        "                    if node in n:\n",
        "                        distances1.append(n[0])\n",
        "            for path in paths2:\n",
        "                for n in path:\n",
        "                    if node in n:\n",
        "                        distances2.append(n[0])\n",
        "            path_length = min(distances1) + min(distances2)\n",
        "            path_lengths.append((path_length, node))\n",
        "        path_lengths.sort(key=lambda x: x[0])\n",
        "        return path_lengths\n",
        "\n",
        "    def get_word_distance(self, word1, word2):\n",
        "        '''returns minimum distance between two words as int'''\n",
        "        word1 = word1.lower()\n",
        "        word2 = word2.lower()\n",
        "        paths1 = self.get_category_hierarchies(word1)\n",
        "        paths2 = self.get_category_hierarchies(word2)\n",
        "        nodes1 = []\n",
        "        nodes2 = []\n",
        "        path_lengths = []\n",
        "        for path in paths1:\n",
        "            for node in path:\n",
        "                nodes1.append(node[1])\n",
        "        for path in paths2:\n",
        "            for node in path:\n",
        "                nodes2.append(node[1])\n",
        "        common_nodes = list(set(nodes1).intersection(set(nodes2)))\n",
        "        for node in common_nodes:\n",
        "            distances1 = []\n",
        "            distances2 = []\n",
        "            for path in paths1:\n",
        "                for n in path:\n",
        "                    if node in n:\n",
        "                        distances1.append(n[0])\n",
        "            for path in paths2:\n",
        "                for n in path:\n",
        "                    if node in n:\n",
        "                        distances2.append(n[0])\n",
        "            path_length = min(distances1) + min(distances2)\n",
        "            path_lengths.append(path_length)\n",
        "        distance = min(path_lengths)\n",
        "        return distance\n",
        "\n",
        "    def get_category_hierarchy(self, category):\n",
        "        '''returns path from node to parent node \"WORDS\"\n",
        "        and distance from given node to each node in path;\n",
        "        output format list of tuples: [(distance,node),...]'''\n",
        "        if category == '0':\n",
        "            return [(0, 'WORDS')]\n",
        "        elif category.upper() == 'WORDS':\n",
        "            return [(0, 'WORDS')]\n",
        "        elif category.lower() in self.node_code_category_dict.keys():\n",
        "            cat = category.lower()\n",
        "        elif category.upper() in self.node_code_category_dict.values():\n",
        "            cat = self.category_node_code_dict[category.upper()]\n",
        "        # else:\n",
        "            # NOTE: MAY NEED RETURN THAT DOESN'T MESS UP DISTANCE CALCULATIONS IN NODE CLUSTRING ALGORITHM BELOW\n",
        "            # return [(0,'WORDS')]\n",
        "        path = []\n",
        "        counter = 0\n",
        "        path.append((counter, self.node_code_category_dict[cat]))\n",
        "        node = cat\n",
        "        while True:\n",
        "            counter += 1\n",
        "            parent = self.node_parent_dict[node]\n",
        "            path.append((counter, self.node_code_category_dict[parent]))\n",
        "            node = parent\n",
        "            if parent not in self.node_parent_dict.keys():\n",
        "                break\n",
        "        return path\n",
        "\n",
        "    def get_category_distance(self, category1, category2):\n",
        "        '''return minimum distance between two categories as int'''\n",
        "        paths1 = self.get_category_hierarchy(category1)\n",
        "        paths2 = self.get_category_hierarchy(category2)\n",
        "        nodes1 = []\n",
        "        nodes2 = []\n",
        "        path_lengths = []\n",
        "        for path in paths1:\n",
        "            nodes1.append(path[1])\n",
        "        for path in paths2:\n",
        "            nodes2.append(path[1])\n",
        "        common_nodes = list(set(nodes1).intersection(set(nodes2)))\n",
        "        for node in common_nodes:\n",
        "            distances1 = []\n",
        "            distances2 = []\n",
        "            for n in paths1:\n",
        "                if node in n:\n",
        "                    distances1.append(n[0])\n",
        "            for n in paths2:\n",
        "                if node in n:\n",
        "                    distances2.append(n[0])\n",
        "            path_length = min(distances1) + min(distances2)\n",
        "            path_lengths.append(path_length)\n",
        "        distance = min(path_lengths)\n",
        "        return distance\n",
        "\n",
        "    def cluster_by_categories(self, wlist, verbose=False, N=0):\n",
        "        '''returns all nodes that minimize aggregate distance to all words in wordlist;\n",
        "        output format list of tuples: (node,aggregate distance,average distance per word);\n",
        "        verbose flag triggers running results; N flag determines number of nearest nodes printed'''\n",
        "        notwords = []\n",
        "        wordlist = []\n",
        "        for word in wlist:\n",
        "            if word not in self.word_categories_dict.keys():\n",
        "                notwords.append(self.categorize_word(word))\n",
        "            else:\n",
        "                wordlist.append(word)\n",
        "        word_basecats = []\n",
        "        if verbose:\n",
        "            print(\"excluded words:\", notwords)\n",
        "        node_distances = []\n",
        "        nodelist = self.node_parent_dict.keys()\n",
        "        for ndx, node in enumerate(nodelist):\n",
        "            dists = [self.distance_to_node(word, node) for word in wordlist]\n",
        "            if verbose:\n",
        "                print(dists)\n",
        "            aggdist = sum(dists)\n",
        "            node_entry = (node, aggdist)\n",
        "            node_distances.append(node_entry)\n",
        "            avg_node_distance = aggdist / float(len(wordlist))\n",
        "            if verbose:\n",
        "                print(ndx, node, aggdist, avg_node_distance)\n",
        "        node_distances = sorted(node_distances, key=lambda x: x[1])\n",
        "        node_distances_named = [(node, self.node_code_category_dict[node], dist, (float(\n",
        "            dist) / len(wordlist))) for (node, dist) in node_distances]\n",
        "        distlist = [x[1] for x in node_distances]\n",
        "        mindist = min(distlist)\n",
        "        mindist_nodes = [(node, self.node_code_category_dict[node], dist, (float(\n",
        "            dist) / len(wordlist))) for (node, dist) in node_distances if dist == mindist]\n",
        "        if N > 0:\n",
        "            return node_distances_named[:N]\n",
        "        else:\n",
        "            return mindist_nodes\n",
        "\n",
        "    def get_all_categories_batch_by_folder(self, folder, csv=False):\n",
        "        '''accepts name of folder containing only files'''\n",
        "        import pandas as pd\n",
        "        import numpy as np\n",
        "        from os import listdir\n",
        "        flist = listdir(folder)[1:]\n",
        "        headlist = [x[:-4] for x in flist]\n",
        "        with open(folder + flist[0], 'r') as thefile:\n",
        "            reader = thefile.read()\n",
        "            thingy = self.get_all_category_freqs(reader)\n",
        "            indexlist = [x[0] for x in thingy]\n",
        "        newarray = []\n",
        "        for f in flist:\n",
        "            with open(folder + f, 'r') as current_file:\n",
        "                text = current_file.read()\n",
        "            freqs = self.get_all_category_freqs(text)\n",
        "            newarray.append([x[1] for x in freqs])\n",
        "        nparray = np.array(newarray, dtype=int)\n",
        "        nparray = np.transpose(nparray)\n",
        "        df = pd.DataFrame(nparray, index=indexlist, columns=headlist)\n",
        "        if csv:\n",
        "            df.to_csv(folder + 'summary.csv')\n",
        "        return df\n",
        "\n",
        "r = PyRoget() # main code"
      ]
    },
    {
      "cell_type": "markdown",
      "metadata": {
        "id": "AkTSxgY22xTn"
      },
      "source": [
        "## Utilities"
      ]
    },
    {
      "cell_type": "code",
      "execution_count": 11,
      "metadata": {
        "id": "71ANpkqXlamu"
      },
      "outputs": [],
      "source": [
        "!pip install datasets --quiet"
      ]
    },
    {
      "cell_type": "code",
      "execution_count": 12,
      "metadata": {
        "id": "xaR60-h72xF2"
      },
      "outputs": [],
      "source": [
        "def remove_punctuation(text):\n",
        "  punctuation_chars = string.punctuation\n",
        "  translator = str.maketrans('', '', punctuation_chars)\n",
        "  return text.translate(translator)"
      ]
    },
    {
      "cell_type": "code",
      "execution_count": 13,
      "metadata": {
        "id": "MyEtATlyjkLE"
      },
      "outputs": [],
      "source": [
        "def get_category_label(categories):\n",
        "  categories_arr = []\n",
        "\n",
        "  if categories == None:\n",
        "    return categories\n",
        "  for category in categories:\n",
        "    categories_arr.append(category[0])\n",
        "\n",
        "  return categories_arr\n",
        "\n",
        "def get_rogets_categories_by_level(word_list):\n",
        "  rogets_categories_by_level = []\n",
        "\n",
        "  for word in word_list:\n",
        "    categories_in_level = []\n",
        "\n",
        "    for i in range(5): # 5 levels max\n",
        "      categories = r.categorize_words(word.lower(), i)\n",
        "      category_labels = get_category_label(categories)\n",
        "      categories_in_level.append(category_labels)\n",
        "\n",
        "    rogets_categories_by_level.append(categories_in_level)\n",
        "\n",
        "  return rogets_categories_by_level"
      ]
    },
    {
      "cell_type": "code",
      "execution_count": 14,
      "metadata": {
        "id": "vc1bQ-fVueD9"
      },
      "outputs": [],
      "source": [
        "def custom_flatten_array(array):\n",
        "  flattened_array = []\n",
        "\n",
        "  for a1 in array:\n",
        "    for a2 in a1:\n",
        "      for a3 in a2:\n",
        "        if a3 == None:\n",
        "            continue\n",
        "        for a4 in a3:\n",
        "          flattened_array.append(a4)\n",
        "\n",
        "  return flattened_array"
      ]
    },
    {
      "cell_type": "markdown",
      "metadata": {
        "id": "ejXgAzbHjlDJ"
      },
      "source": [
        "## Implementation"
      ]
    },
    {
      "cell_type": "code",
      "execution_count": 6,
      "metadata": {
        "id": "pTirUtX3koPB",
        "colab": {
          "base_uri": "https://localhost:8080/",
          "height": 81,
          "referenced_widgets": [
            "3c0fabd58c4041aeb0d560023fa85448",
            "6bbe4d12a7b94c56927235619dc88a4f",
            "88ae6beeb7ba44fca052e110493e2bd8",
            "4a13af5b164f4ad2aa78fdafd49a459d",
            "c29c97bbeb72495ebcf579b958f541cf",
            "10bfe8b6db514b6cb95bcb669ffe1d65",
            "a2804d3fa9ac46a6b453064ba6846321",
            "a3d65126dded408daca082b76716f1b7",
            "72241c8755fe4e86a9b82ab9d154d7b0",
            "725abe27586c4fc0a50e198da1525b76",
            "1ed2d54dc038421993d082ff56960bca",
            "5cfa741c7ccd4eb08b64163bae88ab83",
            "fddebbd48b904f8582391c664a995b44",
            "c2602fd99a274bca97494f273cfcecd9",
            "4941bdca53454950b947478eb8da9da9",
            "4f2274068ee742738b54dec7bd885939",
            "46c0a3c813db41dfa9bc51c284a5ae9d",
            "a7f25a1c42b14b498842087655180808",
            "8befe2e39e5e4d6ba9aa9a2c6fe7899f",
            "9c8c4d89696f45cea11449c4de6beb52",
            "7b0310e80778443b86ccfb1cd046289d",
            "d2d5acc52dc34b25bf16d808cb3978ef"
          ]
        },
        "outputId": "311bc24c-7c9b-44e2-c561-7d948c2765ef"
      },
      "outputs": [
        {
          "output_type": "display_data",
          "data": {
            "text/plain": [
              "Downloading data:   0%|          | 0.00/39.3M [00:00<?, ?B/s]"
            ],
            "application/vnd.jupyter.widget-view+json": {
              "version_major": 2,
              "version_minor": 0,
              "model_id": "3c0fabd58c4041aeb0d560023fa85448"
            }
          },
          "metadata": {}
        },
        {
          "output_type": "display_data",
          "data": {
            "text/plain": [
              "Generating train split:   0%|          | 0/24322 [00:00<?, ? examples/s]"
            ],
            "application/vnd.jupyter.widget-view+json": {
              "version_major": 2,
              "version_minor": 0,
              "model_id": "5cfa741c7ccd4eb08b64163bae88ab83"
            }
          },
          "metadata": {}
        }
      ],
      "source": [
        "# Using HC3\n",
        "from google.colab import userdata\n",
        "from datasets import load_dataset\n",
        "\n",
        "dataset = load_dataset(\n",
        "    \"Hello-SimpleAI/HC3\",\n",
        "    name='all',\n",
        "    token=userdata.get('HC3'),\n",
        "    trust_remote_code=True,\n",
        "    )"
      ]
    },
    {
      "cell_type": "code",
      "execution_count": 7,
      "metadata": {
        "colab": {
          "base_uri": "https://localhost:8080/"
        },
        "id": "5DWkjwtywL6P",
        "outputId": "1f9ba98b-addc-4c7c-b03e-9006d8a104fd"
      },
      "outputs": [
        {
          "output_type": "execute_result",
          "data": {
            "text/plain": [
              "Dataset({\n",
              "    features: ['id', 'question', 'human_answers', 'chatgpt_answers', 'source'],\n",
              "    num_rows: 24322\n",
              "})"
            ]
          },
          "metadata": {},
          "execution_count": 7
        }
      ],
      "source": [
        "dataset['train']"
      ]
    },
    {
      "cell_type": "code",
      "execution_count": 8,
      "metadata": {
        "colab": {
          "base_uri": "https://localhost:8080/"
        },
        "id": "n9KoLUciqRCy",
        "outputId": "2cd41003-a32c-486d-f8f7-7fae5ea42c69"
      },
      "outputs": [
        {
          "output_type": "stream",
          "name": "stdout",
          "text": [
            "Why is every book I hear about a \" NY Times # 1 Best Seller \" ? ELI5 : Why is every book I hear about a \" NY Times # 1 Best Seller \" ? Should n't there only be one \" # 1 \" best seller ? Please explain like I'm five.\n",
            "['Basically', 'there', 'are', 'many', 'categories', 'of', 'Best', 'Seller', 'Replace', 'Best', 'Seller', 'by', 'something', 'like', 'Oscars', 'and', 'every', 'best', 'seller', 'book', 'is', 'basically', 'an', 'oscar', 'winning', 'book', 'May', 'not', 'have', 'won', 'the', 'Best', 'film', 'but', 'even', 'if', 'you', 'won', 'the', 'best', 'director', 'or', 'best', 'script', 'you', 're', 'still', 'an', 'oscar', 'winning', 'film', 'Same', 'thing', 'for', 'best', 'sellers', 'Also', 'IIRC', 'the', 'rankings', 'change', 'every', 'week', 'or', 'something', 'like', 'that', 'Some', 'you', 'might', 'not', 'be', 'best', 'seller', 'one', 'week', 'but', 'you', 'may', 'be', 'the', 'next', 'week', 'I', 'guess', 'even', 'if', 'you', 'do', 'nt', 'stay', 'there', 'for', 'long', 'you', 'still', 'achieved', 'the', 'status', 'Hence', '1', 'best', 'seller']\n",
            "['There', 'are', 'many', 'different', 'best', 'seller', 'lists', 'that', 'are', 'published', 'by', 'various', 'organizations', 'and', 'the', 'New', 'York', 'Times', 'is', 'just', 'one', 'of', 'them', 'The', 'New', 'York', 'Times', 'best', 'seller', 'list', 'is', 'a', 'weekly', 'list', 'that', 'ranks', 'the', 'bestselling', 'books', 'in', 'the', 'United', 'States', 'based', 'on', 'sales', 'data', 'from', 'a', 'number', 'of', 'different', 'retailers', 'The', 'list', 'is', 'published', 'in', 'the', 'New', 'York', 'Times', 'newspaper', 'and', 'is', 'widely', 'considered', 'to', 'be', 'one', 'of', 'the', 'most', 'influential', 'best', 'seller', 'lists', 'in', 'the', 'book', 'industry', 'Its', 'important', 'to', 'note', 'that', 'the', 'New', 'York', 'Times', 'best', 'seller', 'list', 'is', 'not', 'the', 'only', 'best', 'seller', 'list', 'out', 'there', 'and', 'there', 'are', 'many', 'other', 'lists', 'that', 'rank', 'the', 'topselling', 'books', 'in', 'different', 'categories', 'or', 'in', 'different', 'countries', 'So', 'its', 'possible', 'that', 'a', 'book', 'could', 'be', 'a', 'best', 'seller', 'on', 'one', 'list', 'but', 'not', 'on', 'another', 'Additionally', 'the', 'term', 'best', 'seller', 'is', 'often', 'used', 'more', 'broadly', 'to', 'refer', 'to', 'any', 'book', 'that', 'is', 'selling', 'well', 'regardless', 'of', 'whether', 'it', 'is', 'on', 'a', 'specific', 'best', 'seller', 'list', 'or', 'not', 'So', 'its', 'possible', 'that', 'you', 'may', 'hear', 'about', 'a', 'book', 'being', 'a', 'best', 'seller', 'even', 'if', 'it', 'is', 'not', 'specifically', 'ranked', 'as', 'a', 'number', 'one', 'best', 'seller', 'on', 'the', 'New', 'York', 'Times', 'list', 'or', 'any', 'other', 'list']\n"
          ]
        }
      ],
      "source": [
        "break_at = 0\n",
        "\n",
        "questions = []\n",
        "human_answer_word_corpora = []\n",
        "chatgpt_answer_word_corpora = []\n",
        "\n",
        "human_len = len(dataset['train']['human_answers'])\n",
        "for datapoint in dataset['train']:\n",
        "  question = datapoint['question']\n",
        "  human_answers = datapoint['human_answers']\n",
        "  chatgpt_answers = datapoint['chatgpt_answers']\n",
        "\n",
        "  questions.append(question)\n",
        "\n",
        "  for human_answer in human_answers:\n",
        "    cleaned_answer = remove_punctuation(human_answer)\n",
        "    words = cleaned_answer.split()\n",
        "    human_answer_word_corpora.append(words)\n",
        "\n",
        "  for chatgpt_answer in chatgpt_answers:\n",
        "    cleaned_answer = remove_punctuation(chatgpt_answer)\n",
        "    words = cleaned_answer.split()\n",
        "    chatgpt_answer_word_corpora.append(words)\n",
        "\n",
        "  # early break\n",
        "  # break_at += 1\n",
        "  # if break_at == 5:\n",
        "  #   break\n",
        "\n",
        "print(questions[0])\n",
        "print(human_answer_word_corpora[0])\n",
        "print(chatgpt_answer_word_corpora[0])"
      ]
    },
    {
      "cell_type": "code",
      "execution_count": 9,
      "metadata": {
        "colab": {
          "base_uri": "https://localhost:8080/"
        },
        "id": "GUU1Qa5xKtBF",
        "outputId": "00afb2c8-e58b-4e36-d7b0-98f5b3872220"
      },
      "outputs": [
        {
          "output_type": "stream",
          "name": "stdout",
          "text": [
            "24322\n",
            "58546\n",
            "26903\n"
          ]
        }
      ],
      "source": [
        "print(len(questions))\n",
        "print(len(human_answer_word_corpora))\n",
        "print(len(chatgpt_answer_word_corpora))"
      ]
    },
    {
      "cell_type": "code",
      "execution_count": 17,
      "metadata": {
        "colab": {
          "base_uri": "https://localhost:8080/"
        },
        "id": "k55ayDhsTuqd",
        "outputId": "4a0a86f8-7cfb-4ecf-eda8-977590d00316"
      },
      "outputs": [
        {
          "output_type": "stream",
          "name": "stdout",
          "text": [
            "questions: 24322\n",
            "human words: 58546\n",
            "chatgpt words: 26903\n",
            "58546 26903\n",
            "Successfully mapped\n"
          ]
        }
      ],
      "source": [
        "human_answer_rogets_categories = []\n",
        "chatgpt_answer_rogets_categories = []\n",
        "\n",
        "print(\"questions:\", len(questions))\n",
        "print(\"human words:\", len(human_answer_word_corpora))\n",
        "print(\"chatgpt words:\", len(chatgpt_answer_word_corpora))\n",
        "\n",
        "for human_answer_word_corpus in human_answer_word_corpora:\n",
        "  human_answer_rogets_category = get_rogets_categories_by_level(human_answer_word_corpus)\n",
        "  human_answer_rogets_categories.append(human_answer_rogets_category)\n",
        "\n",
        "for chatgpt_answer_word_corpus in chatgpt_answer_word_corpora:\n",
        "  chatgpt_answer_rogets_category = get_rogets_categories_by_level(chatgpt_answer_word_corpus)\n",
        "  chatgpt_answer_rogets_categories.append(chatgpt_answer_rogets_category)\n",
        "\n",
        "print(len(human_answer_rogets_categories), len(chatgpt_answer_rogets_categories))\n",
        "if len(human_answer_word_corpora) == len(human_answer_rogets_categories) and len(chatgpt_answer_word_corpora) == len(chatgpt_answer_rogets_categories):\n",
        "  print(\"Successfully mapped\")"
      ]
    },
    {
      "cell_type": "code",
      "execution_count": 18,
      "metadata": {
        "colab": {
          "base_uri": "https://localhost:8080/"
        },
        "id": "IkXwm_ibfqh6",
        "outputId": "19d50f37-364a-4563-8b84-83a952f0bd5c"
      },
      "outputs": [
        {
          "output_type": "stream",
          "name": "stdout",
          "text": [
            "58546 26903\n"
          ]
        }
      ],
      "source": [
        "print(len(human_answer_rogets_categories), len(chatgpt_answer_rogets_categories))\n",
        "\n",
        "# chatgpt_answer_rogets_categories is a 2D array where each element is an array of 5 elemnts, which are 5 rogets cat levels"
      ]
    },
    {
      "cell_type": "code",
      "source": [
        "import numpy as np\n",
        "import math\n",
        "\n",
        "def split_array_into_chunks(arr, num_chunks):\n",
        "    chunk_size = math.ceil(len(arr) / num_chunks)\n",
        "    return [arr[i:i + chunk_size] for i in range(0, len(arr), chunk_size)]\n",
        "\n",
        "import json\n",
        "\n",
        "def save_list_chunks_json(list_data, num_chunks, base_filename):\n",
        "    chunks = split_array_into_chunks(list_data, num_chunks)\n",
        "    for i, chunk in enumerate(chunks):\n",
        "        filename = f\"{base_filename}_chunk_{i}.json\"\n",
        "        with open(filename, 'w', encoding='utf-8') as file:\n",
        "            json.dump(chunk, file)\n",
        "        print(f\"Saved chunk {i} to {filename}\")\n",
        "\n",
        "\n",
        "large_array = human_answer_rogets_categories\n",
        "\n",
        "save_list_chunks_json(large_array, 10, \"chunks\")\n"
      ],
      "metadata": {
        "colab": {
          "base_uri": "https://localhost:8080/"
        },
        "id": "YWMj1oSwhyAq",
        "outputId": "d8251734-fdc7-4cc7-867f-76499ad3ae4c"
      },
      "execution_count": 21,
      "outputs": [
        {
          "output_type": "stream",
          "name": "stdout",
          "text": [
            "Saved chunk 0 to chunks_chunk_0.json\n",
            "Saved chunk 1 to chunks_chunk_1.json\n",
            "Saved chunk 2 to chunks_chunk_2.json\n",
            "Saved chunk 3 to chunks_chunk_3.json\n",
            "Saved chunk 4 to chunks_chunk_4.json\n",
            "Saved chunk 5 to chunks_chunk_5.json\n",
            "Saved chunk 6 to chunks_chunk_6.json\n",
            "Saved chunk 7 to chunks_chunk_7.json\n",
            "Saved chunk 8 to chunks_chunk_8.json\n",
            "Saved chunk 9 to chunks_chunk_9.json\n"
          ]
        }
      ]
    },
    {
      "cell_type": "code",
      "source": [
        "import gc\n",
        "\n",
        "# Assume `large_var` is a large variable consuming a lot of memory.\n",
        "# del human_answer_rogets_categories\n",
        "# del chatgpt_answer_rogets_categories\n",
        "# del human_answer_word_corpora\n",
        "# del chatgpt_answer_word_corpora\n",
        "# del human_answers\n",
        "# del chatgpt_answers\n",
        "del dataset\n",
        "\n",
        "# Collect garbage\n",
        "gc.collect()\n"
      ],
      "metadata": {
        "colab": {
          "base_uri": "https://localhost:8080/"
        },
        "id": "d0iQR4ecocbl",
        "outputId": "9579dc93-bb8d-44cb-b279-fbbbaa34682d"
      },
      "execution_count": 27,
      "outputs": [
        {
          "output_type": "execute_result",
          "data": {
            "text/plain": [
              "136"
            ]
          },
          "metadata": {},
          "execution_count": 27
        }
      ]
    },
    {
      "cell_type": "code",
      "source": [
        "import json\n",
        "\n",
        "def read_list_chunks_json(num_of_chunk, base_filename):\n",
        "    reconstructed_list = []\n",
        "    filename = f\"{base_filename}_chunk_{num_of_chunk}.json\"\n",
        "    with open(filename, 'r', encoding='utf-8') as file:\n",
        "        chunk = json.load(file)\n",
        "        reconstructed_list.extend(chunk)\n",
        "    return reconstructed_list\n",
        "\n",
        "# Usage\n",
        "reconstructed_list = read_list_chunks_json(0, \"chunks\")\n"
      ],
      "metadata": {
        "id": "o3uFUJ_hn5wT"
      },
      "execution_count": 22,
      "outputs": []
    },
    {
      "cell_type": "code",
      "execution_count": 32,
      "metadata": {
        "id": "yoiJNUuLPG0M"
      },
      "outputs": [],
      "source": [
        "level_one   = []\n",
        "level_two   = []\n",
        "level_three = []\n",
        "level_four  = []\n",
        "level_five  = []\n",
        "\n",
        "for word_array in reconstructed_list:\n",
        "  for cat in word_array:\n",
        "    for i in range(len(cat)):\n",
        "      if cat[i] == None:\n",
        "        continue\n",
        "      if i == 0:\n",
        "        level_one.append(cat[i])\n",
        "      if i == 1:\n",
        "        level_two.append(cat[i])\n",
        "      if i == 2:\n",
        "        level_three.append(cat[i])\n",
        "      if i == 3:\n",
        "        level_four.append(cat[i])\n",
        "      if i == 4:\n",
        "        level_five.append(cat[i])\n",
        "\n",
        "\n"
      ]
    },
    {
      "cell_type": "code",
      "source": [
        "print(level_one[1])\n",
        "print(level_two[1])\n",
        "print(level_three[1])\n",
        "print(level_four[1])\n",
        "print(level_five[1])"
      ],
      "metadata": {
        "colab": {
          "base_uri": "https://localhost:8080/"
        },
        "id": "i7PSCLMsp333",
        "outputId": "95f9da32-6711-40bc-c2fd-8b801c843e51"
      },
      "execution_count": 33,
      "outputs": [
        {
          "output_type": "stream",
          "name": "stdout",
          "text": [
            "['GREATNESS', 'MULTITUDE']\n",
            "['QUANTITY BY COMPARISON WITH A STANDARD', 'INDETERMINATE NUMBER']\n",
            "['COMPARATIVE QUANTITY', 'NUMBER']\n",
            "['QUANTITY', 'WORDS EXPRESSING ABSTRACT RELATIONS']\n",
            "['WORDS EXPRESSING ABSTRACT RELATIONS', 'WORDS EXPRESSING ABSTRACT RELATIONS']\n"
          ]
        }
      ]
    },
    {
      "cell_type": "code",
      "source": [
        "import pandas as pd\n",
        "from collections import Counter\n",
        "from itertools import chain\n",
        "\n",
        "def count_unique_words_2d(arrays_of_strings):\n",
        "    # Flatten the 2D array into a 1D array of strings\n",
        "    flattened_strings = list(chain.from_iterable(arrays_of_strings))\n",
        "\n",
        "    # Split the flattened list of strings into individual words\n",
        "    words = ' '.join(flattened_strings).split()\n",
        "\n",
        "    # Count each unique word\n",
        "    word_counts = Counter(words)\n",
        "\n",
        "    # Convert the word counts to a pandas DataFrame\n",
        "    df = pd.DataFrame(word_counts.items(), columns=['Word', 'Count'])\n",
        "\n",
        "    # Sort the DataFrame by the word counts\n",
        "    df = df.sort_values(by='Count', ascending=False).reset_index(drop=True)\n",
        "\n",
        "    return df"
      ],
      "metadata": {
        "id": "BK8pPxDcrdNQ"
      },
      "execution_count": 34,
      "outputs": []
    },
    {
      "cell_type": "code",
      "execution_count": null,
      "metadata": {
        "id": "rAlW9GMbriYe"
      },
      "outputs": [],
      "source": [
        "concatenated_human_answer_rogets_categories = custom_flatten_array(human_answer_rogets_categories)\n",
        "concatenated_chatgpt_answer_rogets_categories = custom_flatten_array(chatgpt_answer_rogets_categories)"
      ]
    },
    {
      "cell_type": "code",
      "execution_count": null,
      "metadata": {
        "id": "DDl4gGJwvRLc"
      },
      "outputs": [],
      "source": [
        "import numpy as np\n",
        "import pandas as pd\n",
        "\n",
        "pd.value_counts(np.array(concatenated_human_answer_rogets_categories))"
      ]
    }
  ],
  "metadata": {
    "colab": {
      "collapsed_sections": [
        "kAvG6zP8jhGA"
      ],
      "provenance": []
    },
    "kernelspec": {
      "display_name": "Python 3",
      "name": "python3"
    },
    "language_info": {
      "name": "python"
    },
    "widgets": {
      "application/vnd.jupyter.widget-state+json": {
        "3c0fabd58c4041aeb0d560023fa85448": {
          "model_module": "@jupyter-widgets/controls",
          "model_name": "HBoxModel",
          "model_module_version": "1.5.0",
          "state": {
            "_dom_classes": [],
            "_model_module": "@jupyter-widgets/controls",
            "_model_module_version": "1.5.0",
            "_model_name": "HBoxModel",
            "_view_count": null,
            "_view_module": "@jupyter-widgets/controls",
            "_view_module_version": "1.5.0",
            "_view_name": "HBoxView",
            "box_style": "",
            "children": [
              "IPY_MODEL_6bbe4d12a7b94c56927235619dc88a4f",
              "IPY_MODEL_88ae6beeb7ba44fca052e110493e2bd8",
              "IPY_MODEL_4a13af5b164f4ad2aa78fdafd49a459d"
            ],
            "layout": "IPY_MODEL_c29c97bbeb72495ebcf579b958f541cf"
          }
        },
        "6bbe4d12a7b94c56927235619dc88a4f": {
          "model_module": "@jupyter-widgets/controls",
          "model_name": "HTMLModel",
          "model_module_version": "1.5.0",
          "state": {
            "_dom_classes": [],
            "_model_module": "@jupyter-widgets/controls",
            "_model_module_version": "1.5.0",
            "_model_name": "HTMLModel",
            "_view_count": null,
            "_view_module": "@jupyter-widgets/controls",
            "_view_module_version": "1.5.0",
            "_view_name": "HTMLView",
            "description": "",
            "description_tooltip": null,
            "layout": "IPY_MODEL_10bfe8b6db514b6cb95bcb669ffe1d65",
            "placeholder": "​",
            "style": "IPY_MODEL_a2804d3fa9ac46a6b453064ba6846321",
            "value": "Downloading data: 100%"
          }
        },
        "88ae6beeb7ba44fca052e110493e2bd8": {
          "model_module": "@jupyter-widgets/controls",
          "model_name": "FloatProgressModel",
          "model_module_version": "1.5.0",
          "state": {
            "_dom_classes": [],
            "_model_module": "@jupyter-widgets/controls",
            "_model_module_version": "1.5.0",
            "_model_name": "FloatProgressModel",
            "_view_count": null,
            "_view_module": "@jupyter-widgets/controls",
            "_view_module_version": "1.5.0",
            "_view_name": "ProgressView",
            "bar_style": "success",
            "description": "",
            "description_tooltip": null,
            "layout": "IPY_MODEL_a3d65126dded408daca082b76716f1b7",
            "max": 39283467,
            "min": 0,
            "orientation": "horizontal",
            "style": "IPY_MODEL_72241c8755fe4e86a9b82ab9d154d7b0",
            "value": 39283467
          }
        },
        "4a13af5b164f4ad2aa78fdafd49a459d": {
          "model_module": "@jupyter-widgets/controls",
          "model_name": "HTMLModel",
          "model_module_version": "1.5.0",
          "state": {
            "_dom_classes": [],
            "_model_module": "@jupyter-widgets/controls",
            "_model_module_version": "1.5.0",
            "_model_name": "HTMLModel",
            "_view_count": null,
            "_view_module": "@jupyter-widgets/controls",
            "_view_module_version": "1.5.0",
            "_view_name": "HTMLView",
            "description": "",
            "description_tooltip": null,
            "layout": "IPY_MODEL_725abe27586c4fc0a50e198da1525b76",
            "placeholder": "​",
            "style": "IPY_MODEL_1ed2d54dc038421993d082ff56960bca",
            "value": " 39.3M/39.3M [00:05&lt;00:00, 7.49MB/s]"
          }
        },
        "c29c97bbeb72495ebcf579b958f541cf": {
          "model_module": "@jupyter-widgets/base",
          "model_name": "LayoutModel",
          "model_module_version": "1.2.0",
          "state": {
            "_model_module": "@jupyter-widgets/base",
            "_model_module_version": "1.2.0",
            "_model_name": "LayoutModel",
            "_view_count": null,
            "_view_module": "@jupyter-widgets/base",
            "_view_module_version": "1.2.0",
            "_view_name": "LayoutView",
            "align_content": null,
            "align_items": null,
            "align_self": null,
            "border": null,
            "bottom": null,
            "display": null,
            "flex": null,
            "flex_flow": null,
            "grid_area": null,
            "grid_auto_columns": null,
            "grid_auto_flow": null,
            "grid_auto_rows": null,
            "grid_column": null,
            "grid_gap": null,
            "grid_row": null,
            "grid_template_areas": null,
            "grid_template_columns": null,
            "grid_template_rows": null,
            "height": null,
            "justify_content": null,
            "justify_items": null,
            "left": null,
            "margin": null,
            "max_height": null,
            "max_width": null,
            "min_height": null,
            "min_width": null,
            "object_fit": null,
            "object_position": null,
            "order": null,
            "overflow": null,
            "overflow_x": null,
            "overflow_y": null,
            "padding": null,
            "right": null,
            "top": null,
            "visibility": null,
            "width": null
          }
        },
        "10bfe8b6db514b6cb95bcb669ffe1d65": {
          "model_module": "@jupyter-widgets/base",
          "model_name": "LayoutModel",
          "model_module_version": "1.2.0",
          "state": {
            "_model_module": "@jupyter-widgets/base",
            "_model_module_version": "1.2.0",
            "_model_name": "LayoutModel",
            "_view_count": null,
            "_view_module": "@jupyter-widgets/base",
            "_view_module_version": "1.2.0",
            "_view_name": "LayoutView",
            "align_content": null,
            "align_items": null,
            "align_self": null,
            "border": null,
            "bottom": null,
            "display": null,
            "flex": null,
            "flex_flow": null,
            "grid_area": null,
            "grid_auto_columns": null,
            "grid_auto_flow": null,
            "grid_auto_rows": null,
            "grid_column": null,
            "grid_gap": null,
            "grid_row": null,
            "grid_template_areas": null,
            "grid_template_columns": null,
            "grid_template_rows": null,
            "height": null,
            "justify_content": null,
            "justify_items": null,
            "left": null,
            "margin": null,
            "max_height": null,
            "max_width": null,
            "min_height": null,
            "min_width": null,
            "object_fit": null,
            "object_position": null,
            "order": null,
            "overflow": null,
            "overflow_x": null,
            "overflow_y": null,
            "padding": null,
            "right": null,
            "top": null,
            "visibility": null,
            "width": null
          }
        },
        "a2804d3fa9ac46a6b453064ba6846321": {
          "model_module": "@jupyter-widgets/controls",
          "model_name": "DescriptionStyleModel",
          "model_module_version": "1.5.0",
          "state": {
            "_model_module": "@jupyter-widgets/controls",
            "_model_module_version": "1.5.0",
            "_model_name": "DescriptionStyleModel",
            "_view_count": null,
            "_view_module": "@jupyter-widgets/base",
            "_view_module_version": "1.2.0",
            "_view_name": "StyleView",
            "description_width": ""
          }
        },
        "a3d65126dded408daca082b76716f1b7": {
          "model_module": "@jupyter-widgets/base",
          "model_name": "LayoutModel",
          "model_module_version": "1.2.0",
          "state": {
            "_model_module": "@jupyter-widgets/base",
            "_model_module_version": "1.2.0",
            "_model_name": "LayoutModel",
            "_view_count": null,
            "_view_module": "@jupyter-widgets/base",
            "_view_module_version": "1.2.0",
            "_view_name": "LayoutView",
            "align_content": null,
            "align_items": null,
            "align_self": null,
            "border": null,
            "bottom": null,
            "display": null,
            "flex": null,
            "flex_flow": null,
            "grid_area": null,
            "grid_auto_columns": null,
            "grid_auto_flow": null,
            "grid_auto_rows": null,
            "grid_column": null,
            "grid_gap": null,
            "grid_row": null,
            "grid_template_areas": null,
            "grid_template_columns": null,
            "grid_template_rows": null,
            "height": null,
            "justify_content": null,
            "justify_items": null,
            "left": null,
            "margin": null,
            "max_height": null,
            "max_width": null,
            "min_height": null,
            "min_width": null,
            "object_fit": null,
            "object_position": null,
            "order": null,
            "overflow": null,
            "overflow_x": null,
            "overflow_y": null,
            "padding": null,
            "right": null,
            "top": null,
            "visibility": null,
            "width": null
          }
        },
        "72241c8755fe4e86a9b82ab9d154d7b0": {
          "model_module": "@jupyter-widgets/controls",
          "model_name": "ProgressStyleModel",
          "model_module_version": "1.5.0",
          "state": {
            "_model_module": "@jupyter-widgets/controls",
            "_model_module_version": "1.5.0",
            "_model_name": "ProgressStyleModel",
            "_view_count": null,
            "_view_module": "@jupyter-widgets/base",
            "_view_module_version": "1.2.0",
            "_view_name": "StyleView",
            "bar_color": null,
            "description_width": ""
          }
        },
        "725abe27586c4fc0a50e198da1525b76": {
          "model_module": "@jupyter-widgets/base",
          "model_name": "LayoutModel",
          "model_module_version": "1.2.0",
          "state": {
            "_model_module": "@jupyter-widgets/base",
            "_model_module_version": "1.2.0",
            "_model_name": "LayoutModel",
            "_view_count": null,
            "_view_module": "@jupyter-widgets/base",
            "_view_module_version": "1.2.0",
            "_view_name": "LayoutView",
            "align_content": null,
            "align_items": null,
            "align_self": null,
            "border": null,
            "bottom": null,
            "display": null,
            "flex": null,
            "flex_flow": null,
            "grid_area": null,
            "grid_auto_columns": null,
            "grid_auto_flow": null,
            "grid_auto_rows": null,
            "grid_column": null,
            "grid_gap": null,
            "grid_row": null,
            "grid_template_areas": null,
            "grid_template_columns": null,
            "grid_template_rows": null,
            "height": null,
            "justify_content": null,
            "justify_items": null,
            "left": null,
            "margin": null,
            "max_height": null,
            "max_width": null,
            "min_height": null,
            "min_width": null,
            "object_fit": null,
            "object_position": null,
            "order": null,
            "overflow": null,
            "overflow_x": null,
            "overflow_y": null,
            "padding": null,
            "right": null,
            "top": null,
            "visibility": null,
            "width": null
          }
        },
        "1ed2d54dc038421993d082ff56960bca": {
          "model_module": "@jupyter-widgets/controls",
          "model_name": "DescriptionStyleModel",
          "model_module_version": "1.5.0",
          "state": {
            "_model_module": "@jupyter-widgets/controls",
            "_model_module_version": "1.5.0",
            "_model_name": "DescriptionStyleModel",
            "_view_count": null,
            "_view_module": "@jupyter-widgets/base",
            "_view_module_version": "1.2.0",
            "_view_name": "StyleView",
            "description_width": ""
          }
        },
        "5cfa741c7ccd4eb08b64163bae88ab83": {
          "model_module": "@jupyter-widgets/controls",
          "model_name": "HBoxModel",
          "model_module_version": "1.5.0",
          "state": {
            "_dom_classes": [],
            "_model_module": "@jupyter-widgets/controls",
            "_model_module_version": "1.5.0",
            "_model_name": "HBoxModel",
            "_view_count": null,
            "_view_module": "@jupyter-widgets/controls",
            "_view_module_version": "1.5.0",
            "_view_name": "HBoxView",
            "box_style": "",
            "children": [
              "IPY_MODEL_fddebbd48b904f8582391c664a995b44",
              "IPY_MODEL_c2602fd99a274bca97494f273cfcecd9",
              "IPY_MODEL_4941bdca53454950b947478eb8da9da9"
            ],
            "layout": "IPY_MODEL_4f2274068ee742738b54dec7bd885939"
          }
        },
        "fddebbd48b904f8582391c664a995b44": {
          "model_module": "@jupyter-widgets/controls",
          "model_name": "HTMLModel",
          "model_module_version": "1.5.0",
          "state": {
            "_dom_classes": [],
            "_model_module": "@jupyter-widgets/controls",
            "_model_module_version": "1.5.0",
            "_model_name": "HTMLModel",
            "_view_count": null,
            "_view_module": "@jupyter-widgets/controls",
            "_view_module_version": "1.5.0",
            "_view_name": "HTMLView",
            "description": "",
            "description_tooltip": null,
            "layout": "IPY_MODEL_46c0a3c813db41dfa9bc51c284a5ae9d",
            "placeholder": "​",
            "style": "IPY_MODEL_a7f25a1c42b14b498842087655180808",
            "value": "Generating train split: 100%"
          }
        },
        "c2602fd99a274bca97494f273cfcecd9": {
          "model_module": "@jupyter-widgets/controls",
          "model_name": "FloatProgressModel",
          "model_module_version": "1.5.0",
          "state": {
            "_dom_classes": [],
            "_model_module": "@jupyter-widgets/controls",
            "_model_module_version": "1.5.0",
            "_model_name": "FloatProgressModel",
            "_view_count": null,
            "_view_module": "@jupyter-widgets/controls",
            "_view_module_version": "1.5.0",
            "_view_name": "ProgressView",
            "bar_style": "success",
            "description": "",
            "description_tooltip": null,
            "layout": "IPY_MODEL_8befe2e39e5e4d6ba9aa9a2c6fe7899f",
            "max": 24322,
            "min": 0,
            "orientation": "horizontal",
            "style": "IPY_MODEL_9c8c4d89696f45cea11449c4de6beb52",
            "value": 24322
          }
        },
        "4941bdca53454950b947478eb8da9da9": {
          "model_module": "@jupyter-widgets/controls",
          "model_name": "HTMLModel",
          "model_module_version": "1.5.0",
          "state": {
            "_dom_classes": [],
            "_model_module": "@jupyter-widgets/controls",
            "_model_module_version": "1.5.0",
            "_model_name": "HTMLModel",
            "_view_count": null,
            "_view_module": "@jupyter-widgets/controls",
            "_view_module_version": "1.5.0",
            "_view_name": "HTMLView",
            "description": "",
            "description_tooltip": null,
            "layout": "IPY_MODEL_7b0310e80778443b86ccfb1cd046289d",
            "placeholder": "​",
            "style": "IPY_MODEL_d2d5acc52dc34b25bf16d808cb3978ef",
            "value": " 24322/24322 [00:00&lt;00:00, 32356.32 examples/s]"
          }
        },
        "4f2274068ee742738b54dec7bd885939": {
          "model_module": "@jupyter-widgets/base",
          "model_name": "LayoutModel",
          "model_module_version": "1.2.0",
          "state": {
            "_model_module": "@jupyter-widgets/base",
            "_model_module_version": "1.2.0",
            "_model_name": "LayoutModel",
            "_view_count": null,
            "_view_module": "@jupyter-widgets/base",
            "_view_module_version": "1.2.0",
            "_view_name": "LayoutView",
            "align_content": null,
            "align_items": null,
            "align_self": null,
            "border": null,
            "bottom": null,
            "display": null,
            "flex": null,
            "flex_flow": null,
            "grid_area": null,
            "grid_auto_columns": null,
            "grid_auto_flow": null,
            "grid_auto_rows": null,
            "grid_column": null,
            "grid_gap": null,
            "grid_row": null,
            "grid_template_areas": null,
            "grid_template_columns": null,
            "grid_template_rows": null,
            "height": null,
            "justify_content": null,
            "justify_items": null,
            "left": null,
            "margin": null,
            "max_height": null,
            "max_width": null,
            "min_height": null,
            "min_width": null,
            "object_fit": null,
            "object_position": null,
            "order": null,
            "overflow": null,
            "overflow_x": null,
            "overflow_y": null,
            "padding": null,
            "right": null,
            "top": null,
            "visibility": null,
            "width": null
          }
        },
        "46c0a3c813db41dfa9bc51c284a5ae9d": {
          "model_module": "@jupyter-widgets/base",
          "model_name": "LayoutModel",
          "model_module_version": "1.2.0",
          "state": {
            "_model_module": "@jupyter-widgets/base",
            "_model_module_version": "1.2.0",
            "_model_name": "LayoutModel",
            "_view_count": null,
            "_view_module": "@jupyter-widgets/base",
            "_view_module_version": "1.2.0",
            "_view_name": "LayoutView",
            "align_content": null,
            "align_items": null,
            "align_self": null,
            "border": null,
            "bottom": null,
            "display": null,
            "flex": null,
            "flex_flow": null,
            "grid_area": null,
            "grid_auto_columns": null,
            "grid_auto_flow": null,
            "grid_auto_rows": null,
            "grid_column": null,
            "grid_gap": null,
            "grid_row": null,
            "grid_template_areas": null,
            "grid_template_columns": null,
            "grid_template_rows": null,
            "height": null,
            "justify_content": null,
            "justify_items": null,
            "left": null,
            "margin": null,
            "max_height": null,
            "max_width": null,
            "min_height": null,
            "min_width": null,
            "object_fit": null,
            "object_position": null,
            "order": null,
            "overflow": null,
            "overflow_x": null,
            "overflow_y": null,
            "padding": null,
            "right": null,
            "top": null,
            "visibility": null,
            "width": null
          }
        },
        "a7f25a1c42b14b498842087655180808": {
          "model_module": "@jupyter-widgets/controls",
          "model_name": "DescriptionStyleModel",
          "model_module_version": "1.5.0",
          "state": {
            "_model_module": "@jupyter-widgets/controls",
            "_model_module_version": "1.5.0",
            "_model_name": "DescriptionStyleModel",
            "_view_count": null,
            "_view_module": "@jupyter-widgets/base",
            "_view_module_version": "1.2.0",
            "_view_name": "StyleView",
            "description_width": ""
          }
        },
        "8befe2e39e5e4d6ba9aa9a2c6fe7899f": {
          "model_module": "@jupyter-widgets/base",
          "model_name": "LayoutModel",
          "model_module_version": "1.2.0",
          "state": {
            "_model_module": "@jupyter-widgets/base",
            "_model_module_version": "1.2.0",
            "_model_name": "LayoutModel",
            "_view_count": null,
            "_view_module": "@jupyter-widgets/base",
            "_view_module_version": "1.2.0",
            "_view_name": "LayoutView",
            "align_content": null,
            "align_items": null,
            "align_self": null,
            "border": null,
            "bottom": null,
            "display": null,
            "flex": null,
            "flex_flow": null,
            "grid_area": null,
            "grid_auto_columns": null,
            "grid_auto_flow": null,
            "grid_auto_rows": null,
            "grid_column": null,
            "grid_gap": null,
            "grid_row": null,
            "grid_template_areas": null,
            "grid_template_columns": null,
            "grid_template_rows": null,
            "height": null,
            "justify_content": null,
            "justify_items": null,
            "left": null,
            "margin": null,
            "max_height": null,
            "max_width": null,
            "min_height": null,
            "min_width": null,
            "object_fit": null,
            "object_position": null,
            "order": null,
            "overflow": null,
            "overflow_x": null,
            "overflow_y": null,
            "padding": null,
            "right": null,
            "top": null,
            "visibility": null,
            "width": null
          }
        },
        "9c8c4d89696f45cea11449c4de6beb52": {
          "model_module": "@jupyter-widgets/controls",
          "model_name": "ProgressStyleModel",
          "model_module_version": "1.5.0",
          "state": {
            "_model_module": "@jupyter-widgets/controls",
            "_model_module_version": "1.5.0",
            "_model_name": "ProgressStyleModel",
            "_view_count": null,
            "_view_module": "@jupyter-widgets/base",
            "_view_module_version": "1.2.0",
            "_view_name": "StyleView",
            "bar_color": null,
            "description_width": ""
          }
        },
        "7b0310e80778443b86ccfb1cd046289d": {
          "model_module": "@jupyter-widgets/base",
          "model_name": "LayoutModel",
          "model_module_version": "1.2.0",
          "state": {
            "_model_module": "@jupyter-widgets/base",
            "_model_module_version": "1.2.0",
            "_model_name": "LayoutModel",
            "_view_count": null,
            "_view_module": "@jupyter-widgets/base",
            "_view_module_version": "1.2.0",
            "_view_name": "LayoutView",
            "align_content": null,
            "align_items": null,
            "align_self": null,
            "border": null,
            "bottom": null,
            "display": null,
            "flex": null,
            "flex_flow": null,
            "grid_area": null,
            "grid_auto_columns": null,
            "grid_auto_flow": null,
            "grid_auto_rows": null,
            "grid_column": null,
            "grid_gap": null,
            "grid_row": null,
            "grid_template_areas": null,
            "grid_template_columns": null,
            "grid_template_rows": null,
            "height": null,
            "justify_content": null,
            "justify_items": null,
            "left": null,
            "margin": null,
            "max_height": null,
            "max_width": null,
            "min_height": null,
            "min_width": null,
            "object_fit": null,
            "object_position": null,
            "order": null,
            "overflow": null,
            "overflow_x": null,
            "overflow_y": null,
            "padding": null,
            "right": null,
            "top": null,
            "visibility": null,
            "width": null
          }
        },
        "d2d5acc52dc34b25bf16d808cb3978ef": {
          "model_module": "@jupyter-widgets/controls",
          "model_name": "DescriptionStyleModel",
          "model_module_version": "1.5.0",
          "state": {
            "_model_module": "@jupyter-widgets/controls",
            "_model_module_version": "1.5.0",
            "_model_name": "DescriptionStyleModel",
            "_view_count": null,
            "_view_module": "@jupyter-widgets/base",
            "_view_module_version": "1.2.0",
            "_view_name": "StyleView",
            "description_width": ""
          }
        }
      }
    }
  },
  "nbformat": 4,
  "nbformat_minor": 0
}